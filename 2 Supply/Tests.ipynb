{
 "cells": [
  {
   "cell_type": "code",
   "execution_count": 6,
   "metadata": {},
   "outputs": [],
   "source": [
    "%load_ext autoreload\n",
    "%autoreload 2\n",
    "\n",
    "import pandas as pd\n",
    "import numpy as np\n",
    "from Supply import Supply"
   ]
  },
  {
   "cell_type": "code",
   "execution_count": 2,
   "metadata": {},
   "outputs": [],
   "source": [
    "model = Supply()\n",
    "folder = \"/Users/emmaknippel/Desktop/POLIT 10 SEM/Dynamic Programming/Replicating the Innovators Dilemma/1 Summary Statistics/Data\"\n",
    "model.setup(folder)"
   ]
  },
  {
   "cell_type": "code",
   "execution_count": 3,
   "metadata": {},
   "outputs": [],
   "source": [
    "results = model.MC()\n",
    "\n",
    "dPdQ = results['dPdQ']\n",
    "ePQ = results['ePQ']\n",
    "ABCDEFGH = results['ABCDEFGH']\n",
    "q = results['q']\n",
    "MC = results['MC']"
   ]
  },
  {
   "cell_type": "code",
   "execution_count": 4,
   "metadata": {},
   "outputs": [
    {
     "name": "stdout",
     "output_type": "stream",
     "text": [
      "[   0.            0.          102.10909091  224.37272727  279.19090909\n",
      "  486.58        728.5         811.96        844.91111111  873.58571429\n",
      "  407.2         258.15        159.18         76.34         83.06\n",
      "  913.         1114.56       1017.5       ]\n"
     ]
    }
   ],
   "source": [
    "print(q[:, 1])\n",
    "\n",
    "q_copy = q.copy()\n",
    "q_copy[:, 1] = q[:, 0]\n",
    "q_copy[0, 3] = q[1, 3]\n",
    "q_copy[:, 2] = q_copy[:, 3]\n"
   ]
  },
  {
   "cell_type": "code",
   "execution_count": null,
   "metadata": {},
   "outputs": [],
   "source": [
    "par = model.par\n",
    "print(par.State[13,0])\n",
    "print(par.State[13,1])\n",
    "print(par.State[13,2])"
   ]
  },
  {
   "cell_type": "code",
   "execution_count": 6,
   "metadata": {},
   "outputs": [
    {
     "name": "stdout",
     "output_type": "stream",
     "text": [
      "1.1213105727517398\n",
      "-2.916521500397822\n",
      "0.34984557037628317\n",
      "0.3995721848620778\n"
     ]
    }
   ],
   "source": [
    "print(MC[13,0])\n",
    "print(MC[13,1])\n",
    "print(MC[13,2])\n",
    "print(MC[13,3])"
   ]
  },
  {
   "cell_type": "code",
   "execution_count": 12,
   "metadata": {},
   "outputs": [
    {
     "data": {
      "text/plain": [
       "27.812590370735805"
      ]
     },
     "execution_count": 12,
     "metadata": {},
     "output_type": "execute_result"
    }
   ],
   "source": [
    "alpha1 = -3.28454\n",
    "alpha2 = 0.909773\n",
    "alpha3 = 1.204684\n",
    "Mkt = 56638.8\n",
    "X_o = 6.490788\n",
    "X_n = 6.240812\n",
    "Xe_o = -0.4157396\n",
    "Xe_n = 0.4135973\n",
    "YearDummy = -5.653561\n",
    "MC_o = 1.1213105727517398\n",
    "MC_n = -2.916521500397822\n",
    "No = 1\n",
    "Nb = 4\n",
    "Nn = 5\n",
    "\n",
    "def foc(q):\n",
    "    Qo = No * q[13,0] + Nb * q[13,1]\n",
    "    Qn = Nb * q[13,2] + Nn * q[13,3]\n",
    "    Q0 = Mkt - Qo - Qn\n",
    "\n",
    "    Po = (-1 / alpha1) * (-np.log(Qo / Q0) + alpha2 * 0 + alpha3 * X_o + Xe_o + YearDummy)\n",
    "    Pn = (-1 / alpha1) * (-np.log(Qn / Q0) + alpha2 * 1 + alpha3 * X_n + Xe_n + YearDummy)\n",
    "\n",
    "    dPoQo = (Qo + Q0) / (alpha1 * Qo * Q0)\n",
    "    dPnQo = 1 / (alpha1 * Q0)\n",
    "    dPoQn = 1 / (alpha1 * Q0)\n",
    "    dPnQn = (Qn + Q0) / (alpha1 * Qn * Q0)\n",
    "\n",
    "    foc_o  = Po + dPoQo * q[13,0] - MC_o\n",
    "    foc_bo = Po + dPoQo * q[13,1] + dPnQo * q[13,2] - MC_o\n",
    "    foc_bn = Pn + dPnQn * q[13,2] + dPoQn * q[13,1] - MC_n\n",
    "    foc_n  = Pn + dPnQn * q[13,3] - MC_n  \n",
    "\n",
    "    F = foc_o**2 + foc_bo**2 + foc_bn**2 + foc_n**2\n",
    "\n",
    "    return F\n",
    "\n",
    "foc(q)"
   ]
  },
  {
   "cell_type": "code",
   "execution_count": 15,
   "metadata": {},
   "outputs": [
    {
     "name": "stdout",
     "output_type": "stream",
     "text": [
      "Period t = 16, No = 1\n",
      "Period t = 15, No = 1\n",
      "Period t = 14, No = 1\n",
      "Period t = 13, No = 1\n",
      "Period t = 12, No = 1\n",
      "Period t = 11, No = 2\n",
      "Period t = 10, No = 2\n",
      "Period t = 9, No = 2\n",
      "Period t = 8, No = 3\n",
      "Period t = 7, No = 3\n",
      "Period t = 6, No = 3\n",
      "Period t = 5, No = 4\n",
      "Period t = 4, No = 4\n",
      "Period t = 3, No = 5\n",
      "Period t = 2, No = 10\n",
      "Period t = 1, No = 11\n",
      "Period t = 0, No = 11\n"
     ]
    }
   ],
   "source": [
    "par = model.par\n",
    "State = par.State\n",
    "T = par.T\n",
    "\n",
    "for t in range(T-2, -1, -1):\n",
    "    print(f'Period t = {t}, No = {State[t,0]}')\n",
    "    ststeprime = State[t+1,0]"
   ]
  },
  {
   "cell_type": "code",
   "execution_count": 4,
   "metadata": {},
   "outputs": [
    {
     "name": "stdout",
     "output_type": "stream",
     "text": [
      "<class 'float'>\n"
     ]
    }
   ],
   "source": [
    "x = 0\n",
    "x += 4.35\n",
    "print(type(x))"
   ]
  },
  {
   "cell_type": "code",
   "execution_count": 12,
   "metadata": {},
   "outputs": [
    {
     "name": "stdout",
     "output_type": "stream",
     "text": [
      "9886.46425524372\n"
     ]
    }
   ],
   "source": [
    "from math import factorial\n",
    "\n",
    "def fun1(z6, z7, z8, z9, z10, No, Nb, Nn, Npe, Npe_prime, Vprime):\n",
    "    '''\n",
    "    Input variables:\n",
    "        z6, z7, z8, z9, z10 = choice probabilities, fun6 - fun 10\n",
    "        No = integer,  # Old-only firms\n",
    "        Nb = integer, # of Both firms\n",
    "        Nn = integer, # of New firms\n",
    "        Npe = integer, # of Potential Entrants\n",
    "        Npe_prime = integer, # of Potential Entrants next period\n",
    "        Vprime = array of size 6480,1 with value function results over time, type and # of firms\n",
    "\n",
    "    Output:\n",
    "        z1 = EV of staying for Old-only firms\n",
    "    '''\n",
    "\n",
    "    prhs = [z6, z7, z8, z9, z10, No, Nb, Nn, Npe, Npe_prime, Vprime]\n",
    "    nrhs = len(prhs)\n",
    "\n",
    "    # checks for correct inputs\n",
    "    if nrhs != 11:\n",
    "        raise Warning(f'Error fun1: 11 input arguments required, only {nrhs} given')\n",
    "    if prhs[10].size != 6480:\n",
    "        raise Warning(f'Error fun1: Vprime must have 6480 rows, it has {prhs[10].size}')\n",
    "    if np.isnan(prhs[10]).any():\n",
    "        raise Warning(f'Error fun1: Vprime must have 6480 elements')\n",
    "\n",
    "\n",
    "    def getBA1(z6, z7, z8, z9, z10, No, Nb, Nn, Npe):\n",
    "        '''\n",
    "        Objective: compute BA1 (??)\n",
    "\n",
    "            xo = # of exits, old firms\n",
    "            eb = # entry of both - aka # of adopts\n",
    "            xb = # exit both firms\n",
    "            xn = # exit new firms\n",
    "            en = # entry potential firms\n",
    "        '''\n",
    "\n",
    "        BA1 = np.zeros((12*12*12*15*5))  # xo, eb, xb, xn, en\n",
    "        for xo in range(No):\n",
    "            for eb in range(No-xo):\n",
    "                for xb in range(Nb+1):\n",
    "                    for xn in range(Nn+1):\n",
    "                        for en in range(Npe+1):\n",
    "                            if No > 1:      # if number of old firms > 1\n",
    "                                            # Intuitively: Ba1[xo][eb][xb][xn][en]\n",
    "                                BA1[xo + 12*eb +(12*12)*xb + (12*12*12)*xn + (12*12*12*15)*en] = (factorial(No - 1) / (factorial(xo) * factorial(No - 1 - xo))) \\\n",
    "                                * (factorial(No - 1 - xo) / (factorial(eb) * factorial(No - 1 - xo - eb))) \\\n",
    "                                * z6**xo * z7**eb * ((1 - z6 - z7)**(No - 1 - xo - eb)) \\\n",
    "                                * (factorial(Nb) / (factorial(xb) * factorial(Nb - xb))) \\\n",
    "                                * z8**xb * ((1 - z8)**(Nb - xb)) \\\n",
    "                                * (factorial(Nn) / (factorial(xn) * factorial(Nn - xn))) \\\n",
    "                                * z9**xn * ((1 - z9)**(Nn - xn)) \\\n",
    "                                * (factorial(Npe) / (factorial(en) * factorial(Npe - en))) \\\n",
    "                                * z10**en * ((1 - z10)**(Npe - en))\n",
    "                            else:\n",
    "                                BA1[0 + 12*0 + (12*12)*xb + (12*12*12)*xn + (12*12*12*15)*en] = \\\n",
    "                                (factorial(Nb) / (factorial(xb) * factorial(Nb - xb))) \\\n",
    "                                * z8**xb * ((1 - z8)**(Nb - xb)) \\\n",
    "                                * (factorial(Nn) / (factorial(xn) * factorial(Nn - xn))) \\\n",
    "                                * z9**xn * ((1 - z9)**(Nn - xn)) \\\n",
    "                                * (factorial(Npe) / (factorial(en) * factorial(Npe - en))) \\\n",
    "                                * z10**en * ((1 - z10)**(Npe - en))\n",
    "        return BA1\n",
    "\n",
    "\n",
    "    def getBS1(No, Nb, Nn, Npe, Npe_prime):\n",
    "    # Step 2: map BA1 to future state probabilities BS1\n",
    "        npe_prime = Npe_prime\n",
    "\n",
    "        BA1 = getBA1(z6,z7,z8,z9,z10,No,Nb,Nn,Npe)\n",
    "\n",
    "        BS1 = np.zeros((12*12*15*5))  # no', nb', nn', npe'\n",
    "        for xo in range(No):\n",
    "            for eb in range(No - xo):\n",
    "                for xb in range(Nb):\n",
    "                    for xn in range(Nn + 1):\n",
    "                        for en in range(Npe + 1):\n",
    "                            xo = max(xo, 0)\n",
    "                            eb = max(eb, 0)\n",
    "\n",
    "                            no_prime = No - xo - eb\n",
    "                            no_prime = max(0, no_prime)\n",
    "                            no_prime = min(no_prime, 11)\n",
    "\n",
    "                            nb_prime = Nb - xb + eb\n",
    "                            nb_prime = max(0, nb_prime)\n",
    "                            nb_prime = min(nb_prime, 11)\n",
    "\n",
    "                            nn_prime = Nn - xn + en\n",
    "                            nn_prime = max(0, nn_prime)\n",
    "                            nn_prime = min(nn_prime, 14)\n",
    "\n",
    "                            BS1[no_prime + 12*nb_prime + (12*12)*nn_prime + (12*12*15)*npe_prime] += \\\n",
    "                                BA1[xo + 12*eb + (12*12)*xb + (12*12*12)*xn + (12*12*12*15)*en]\n",
    "        return BS1\n",
    "\n",
    "    def getEV1(No, Nb, Nn, Npe, Npe_prime, Vprime):\n",
    "        npe_prime = Npe_prime\n",
    "        BS1 = getBS1(No, Nb, Nn, Npe, Npe_prime)\n",
    "\n",
    "        EV1 = 0.0  # Solution container\n",
    "        for no_prime in range(0,12):\n",
    "            for nb_prime in range(0,12):\n",
    "                for nn_prime in range(0,15):\n",
    "                    EV1 += BS1[no_prime + 12*nb_prime + (12*12)*nn_prime + (12*12*15)*npe_prime] \\\n",
    "                        * Vprime[0 + 3*no_prime + (3*12)*nb_prime + (3*12*12)*nn_prime]\n",
    "\n",
    "        return EV1\n",
    "\n",
    "    # Initialize result container\n",
    "    # z1 = np.zeros(1)\n",
    "    # BA1 = getBA1(z6, z7, z8, z9, z10, No, Nb, Nn, Npe)\n",
    "    # BS1 = getBS1(No, Nb, Nn, Npe, Npe_prime, BA1)\n",
    "    z1 = getEV1(No, Nb, Nn, Npe, Npe_prime, Vprime)\n",
    "    print(z1)\n",
    "\n",
    "    return z1\n",
    "\n",
    "# Example usage\n",
    "z6 = 0.1\n",
    "z7 = 0.2\n",
    "z8 = 0.3\n",
    "z9 = 0.4\n",
    "z10 = 0.5\n",
    "No = 5\n",
    "Nb = 3\n",
    "Nn = 2\n",
    "Npe = 4\n",
    "Npe_prime = 3\n",
    "Vprime = np.random.uniform(low=0.00001, high=20000, size=6480)  # Example value function results\n",
    "\n",
    "result = fun1(z6, z7, z8, z9, z10, No, Nb, Nn, Npe, Npe_prime, Vprime)"
   ]
  },
  {
   "cell_type": "code",
   "execution_count": 16,
   "metadata": {},
   "outputs": [
    {
     "data": {
      "text/plain": [
       "204"
      ]
     },
     "execution_count": 16,
     "metadata": {},
     "output_type": "execute_result"
    }
   ],
   "source": [
    "LL = np.full((18-1,4), 3)\n",
    "\n",
    "#np.sum(LL)\n",
    "np.sum(np.sum(LL))"
   ]
  },
  {
   "cell_type": "code",
   "execution_count": null,
   "metadata": {},
   "outputs": [],
   "source": []
  }
 ],
 "metadata": {
  "kernelspec": {
   "display_name": "base",
   "language": "python",
   "name": "python3"
  },
  "language_info": {
   "codemirror_mode": {
    "name": "ipython",
    "version": 3
   },
   "file_extension": ".py",
   "mimetype": "text/x-python",
   "name": "python",
   "nbconvert_exporter": "python",
   "pygments_lexer": "ipython3",
   "version": "3.11.7"
  }
 },
 "nbformat": 4,
 "nbformat_minor": 2
}
