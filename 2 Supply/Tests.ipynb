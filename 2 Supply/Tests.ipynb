{
 "cells": [
  {
   "cell_type": "code",
   "execution_count": 1,
   "metadata": {},
   "outputs": [],
   "source": [
    "%load_ext autoreload\n",
    "%autoreload 2\n",
    "\n",
    "import pandas as pd\n",
    "import numpy as np\n",
    "from Supply import Supply"
   ]
  },
  {
   "cell_type": "code",
   "execution_count": 2,
   "metadata": {},
   "outputs": [],
   "source": [
    "model = Supply()\n",
    "folder = \"/Users/emmaknippel/Desktop/POLIT 10 SEM/Dynamic Programming/Replicating the Innovators Dilemma/1 Summary Statistics/Data\"\n",
    "model.setup(folder)"
   ]
  },
  {
   "cell_type": "code",
   "execution_count": 3,
   "metadata": {},
   "outputs": [],
   "source": [
    "results = model.MC()\n",
    "\n",
    "dPdQ = results['dPdQ']\n",
    "ePQ = results['ePQ']\n",
    "ABCDEFGH = results['ABCDEFGH']\n",
    "q = results['q']\n",
    "MC = results['MC']"
   ]
  },
  {
   "cell_type": "code",
   "execution_count": 4,
   "metadata": {},
   "outputs": [
    {
     "name": "stdout",
     "output_type": "stream",
     "text": [
      "[   0.            0.          102.10909091  224.37272727  279.19090909\n",
      "  486.58        728.5         811.96        844.91111111  873.58571429\n",
      "  407.2         258.15        159.18         76.34         83.06\n",
      "  913.         1114.56       1017.5       ]\n"
     ]
    }
   ],
   "source": [
    "print(q[:, 1])\n",
    "\n",
    "q_copy = q.copy()\n",
    "q_copy[:, 1] = q[:, 0]\n",
    "q_copy[0, 3] = q[1, 3]\n",
    "q_copy[:, 2] = q_copy[:, 3]\n"
   ]
  },
  {
   "cell_type": "code",
   "execution_count": null,
   "metadata": {},
   "outputs": [],
   "source": [
    "par = model.par\n",
    "print(par.State[13,0])\n",
    "print(par.State[13,1])\n",
    "print(par.State[13,2])"
   ]
  },
  {
   "cell_type": "code",
   "execution_count": 6,
   "metadata": {},
   "outputs": [
    {
     "name": "stdout",
     "output_type": "stream",
     "text": [
      "1.1213105727517398\n",
      "-2.916521500397822\n",
      "0.34984557037628317\n",
      "0.3995721848620778\n"
     ]
    }
   ],
   "source": [
    "print(MC[13,0])\n",
    "print(MC[13,1])\n",
    "print(MC[13,2])\n",
    "print(MC[13,3])"
   ]
  },
  {
   "cell_type": "code",
   "execution_count": 12,
   "metadata": {},
   "outputs": [
    {
     "data": {
      "text/plain": [
       "27.812590370735805"
      ]
     },
     "execution_count": 12,
     "metadata": {},
     "output_type": "execute_result"
    }
   ],
   "source": [
    "alpha1 = -3.28454\n",
    "alpha2 = 0.909773\n",
    "alpha3 = 1.204684\n",
    "Mkt = 56638.8\n",
    "X_o = 6.490788\n",
    "X_n = 6.240812\n",
    "Xe_o = -0.4157396\n",
    "Xe_n = 0.4135973\n",
    "YearDummy = -5.653561\n",
    "MC_o = 1.1213105727517398\n",
    "MC_n = -2.916521500397822\n",
    "No = 1\n",
    "Nb = 4\n",
    "Nn = 5\n",
    "\n",
    "def foc(q):\n",
    "    Qo = No * q[13,0] + Nb * q[13,1]\n",
    "    Qn = Nb * q[13,2] + Nn * q[13,3]\n",
    "    Q0 = Mkt - Qo - Qn\n",
    "\n",
    "    Po = (-1 / alpha1) * (-np.log(Qo / Q0) + alpha2 * 0 + alpha3 * X_o + Xe_o + YearDummy)\n",
    "    Pn = (-1 / alpha1) * (-np.log(Qn / Q0) + alpha2 * 1 + alpha3 * X_n + Xe_n + YearDummy)\n",
    "\n",
    "    dPoQo = (Qo + Q0) / (alpha1 * Qo * Q0)\n",
    "    dPnQo = 1 / (alpha1 * Q0)\n",
    "    dPoQn = 1 / (alpha1 * Q0)\n",
    "    dPnQn = (Qn + Q0) / (alpha1 * Qn * Q0)\n",
    "\n",
    "    foc_o  = Po + dPoQo * q[13,0] - MC_o\n",
    "    foc_bo = Po + dPoQo * q[13,1] + dPnQo * q[13,2] - MC_o\n",
    "    foc_bn = Pn + dPnQn * q[13,2] + dPoQn * q[13,1] - MC_n\n",
    "    foc_n  = Pn + dPnQn * q[13,3] - MC_n  \n",
    "\n",
    "    F = foc_o**2 + foc_bo**2 + foc_bn**2 + foc_n**2\n",
    "\n",
    "    return F\n",
    "\n",
    "foc(q)"
   ]
  },
  {
   "cell_type": "code",
   "execution_count": 15,
   "metadata": {},
   "outputs": [
    {
     "name": "stdout",
     "output_type": "stream",
     "text": [
      "Period t = 16, No = 1\n",
      "Period t = 15, No = 1\n",
      "Period t = 14, No = 1\n",
      "Period t = 13, No = 1\n",
      "Period t = 12, No = 1\n",
      "Period t = 11, No = 2\n",
      "Period t = 10, No = 2\n",
      "Period t = 9, No = 2\n",
      "Period t = 8, No = 3\n",
      "Period t = 7, No = 3\n",
      "Period t = 6, No = 3\n",
      "Period t = 5, No = 4\n",
      "Period t = 4, No = 4\n",
      "Period t = 3, No = 5\n",
      "Period t = 2, No = 10\n",
      "Period t = 1, No = 11\n",
      "Period t = 0, No = 11\n"
     ]
    }
   ],
   "source": [
    "par = model.par\n",
    "State = par.State\n",
    "T = par.T\n",
    "\n",
    "for t in range(T-2, -1, -1):\n",
    "    print(f'Period t = {t}, No = {State[t,0]}')\n",
    "    ststeprime = State[t+1,0]"
   ]
  },
  {
   "cell_type": "code",
   "execution_count": null,
   "metadata": {},
   "outputs": [],
   "source": []
  }
 ],
 "metadata": {
  "kernelspec": {
   "display_name": "base",
   "language": "python",
   "name": "python3"
  },
  "language_info": {
   "codemirror_mode": {
    "name": "ipython",
    "version": 3
   },
   "file_extension": ".py",
   "mimetype": "text/x-python",
   "name": "python",
   "nbconvert_exporter": "python",
   "pygments_lexer": "ipython3",
   "version": "3.11.7"
  }
 },
 "nbformat": 4,
 "nbformat_minor": 2
}
