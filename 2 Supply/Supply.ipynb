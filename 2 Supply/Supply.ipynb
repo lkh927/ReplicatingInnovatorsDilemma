{
 "cells": [
  {
   "cell_type": "code",
   "execution_count": 17,
   "metadata": {},
   "outputs": [
    {
     "name": "stdout",
     "output_type": "stream",
     "text": [
      "The autoreload extension is already loaded. To reload it, use:\n",
      "  %reload_ext autoreload\n"
     ]
    }
   ],
   "source": [
    "%load_ext autoreload\n",
    "%autoreload 2\n",
    "\n",
    "import pandas as pd\n",
    "import numpy as np\n",
    "from Supply import Supply"
   ]
  },
  {
   "cell_type": "markdown",
   "metadata": {},
   "source": [
    "**Setting up the model and referring to data location**"
   ]
  },
  {
   "cell_type": "code",
   "execution_count": 18,
   "metadata": {},
   "outputs": [],
   "source": [
    "model = Supply()\n",
    "folder = \"/Users/emmaknippel/Desktop/POLIT 10 SEM/Dynamic Programming/Replicating the Innovators Dilemma/1 Summary Statistics/Data\"\n",
    "model.setup(folder)"
   ]
  },
  {
   "cell_type": "markdown",
   "metadata": {},
   "source": [
    "**Finding derivatives, elasticities, ABCDEFGH, quantities per firm and HDD type, and marginal costs for HDD type**"
   ]
  },
  {
   "cell_type": "code",
   "execution_count": 19,
   "metadata": {},
   "outputs": [],
   "source": [
    "results = model.MC()\n",
    "\n",
    "dPdQ = results['dPdQ']\n",
    "ePQ = results['ePQ']\n",
    "ABCDEFGH = results['ABCDEFGH']\n",
    "q = results['q']\n",
    "MC = results['MC']"
   ]
  },
  {
   "cell_type": "code",
   "execution_count": 23,
   "metadata": {},
   "outputs": [
    {
     "name": "stdout",
     "output_type": "stream",
     "text": [
      "\n",
      "Year: 1, State: (1, 1, 1)\n",
      "(qo, qbo, qbn, qn): 4.87, 3.08, 7.65, 8.93\n",
      "(Qo, Qn, Q0): 7.96, 16.58, 25.86\n"
     ]
    },
    {
     "ename": "TypeError",
     "evalue": "unsupported format string passed to numpy.ndarray.__format__",
     "output_type": "error",
     "traceback": [
      "\u001b[0;31m---------------------------------------------------------------------------\u001b[0m",
      "\u001b[0;31mTypeError\u001b[0m                                 Traceback (most recent call last)",
      "Cell \u001b[0;32mIn[23], line 1\u001b[0m\n\u001b[0;32m----> 1\u001b[0m sol \u001b[38;5;241m=\u001b[39m model\u001b[38;5;241m.\u001b[39mfind_pi()\n\u001b[1;32m      2\u001b[0m Bigq \u001b[38;5;241m=\u001b[39m sol[\u001b[38;5;241m0\u001b[39m]\n\u001b[1;32m      3\u001b[0m BigQ \u001b[38;5;241m=\u001b[39m sol[\u001b[38;5;241m1\u001b[39m]\n",
      "File \u001b[0;32m~/Desktop/POLIT 10 SEM/Dynamic Programming/Term Paper/ReplicatingInnovatorsDilemma/2 Supply/Supply.py:367\u001b[0m, in \u001b[0;36mfind_pi\u001b[0;34m(self)\u001b[0m\n\u001b[1;32m    364\u001b[0m BigPi[t,\u001b[38;5;241m1\u001b[39m,No\u001b[38;5;241m+\u001b[39m\u001b[38;5;241m1\u001b[39m,Nb\u001b[38;5;241m+\u001b[39m\u001b[38;5;241m1\u001b[39m,Nn\u001b[38;5;241m+\u001b[39m\u001b[38;5;241m1\u001b[39m] \u001b[38;5;241m=\u001b[39m pi_b\n\u001b[1;32m    365\u001b[0m BigPi[t,\u001b[38;5;241m2\u001b[39m,No\u001b[38;5;241m+\u001b[39m\u001b[38;5;241m1\u001b[39m,Nb\u001b[38;5;241m+\u001b[39m\u001b[38;5;241m1\u001b[39m,Nn\u001b[38;5;241m+\u001b[39m\u001b[38;5;241m1\u001b[39m] \u001b[38;5;241m=\u001b[39m pi_n\n\u001b[0;32m--> 367\u001b[0m \u001b[38;5;28mprint\u001b[39m(\u001b[38;5;124mf\u001b[39m\u001b[38;5;124m'\u001b[39m\u001b[38;5;124m(qo, qbo, qbn, qn): (\u001b[39m\u001b[38;5;132;01m{\u001b[39;00mqo\u001b[38;5;132;01m:\u001b[39;00m\u001b[38;5;124m.2f\u001b[39m\u001b[38;5;132;01m}\u001b[39;00m\u001b[38;5;124m, \u001b[39m\u001b[38;5;132;01m{\u001b[39;00mqbo\u001b[38;5;132;01m:\u001b[39;00m\u001b[38;5;124m.2f\u001b[39m\u001b[38;5;132;01m}\u001b[39;00m\u001b[38;5;124m, \u001b[39m\u001b[38;5;132;01m{\u001b[39;00mqbn\u001b[38;5;132;01m:\u001b[39;00m\u001b[38;5;124m.2f\u001b[39m\u001b[38;5;132;01m}\u001b[39;00m\u001b[38;5;124m, \u001b[39m\u001b[38;5;132;01m{\u001b[39;00mqn\u001b[38;5;132;01m:\u001b[39;00m\u001b[38;5;124m.2f\u001b[39m\u001b[38;5;132;01m}\u001b[39;00m\u001b[38;5;124m)\u001b[39m\u001b[38;5;124m'\u001b[39m)\n\u001b[1;32m    368\u001b[0m \u001b[38;5;28mprint\u001b[39m(\u001b[38;5;124mf\u001b[39m\u001b[38;5;124m'\u001b[39m\u001b[38;5;124m(Qo, Qn, Qo): (\u001b[39m\u001b[38;5;132;01m{\u001b[39;00mQo,\u001b[38;5;250m \u001b[39mQn,\u001b[38;5;250m \u001b[39mQo\u001b[38;5;132;01m}\u001b[39;00m\u001b[38;5;124m), (Po, Pn): (\u001b[39m\u001b[38;5;132;01m{\u001b[39;00mPo\u001b[38;5;132;01m:\u001b[39;00m\u001b[38;5;124m.2f\u001b[39m\u001b[38;5;132;01m}\u001b[39;00m\u001b[38;5;124m, \u001b[39m\u001b[38;5;132;01m{\u001b[39;00mPn\u001b[38;5;132;01m:\u001b[39;00m\u001b[38;5;124m.2f\u001b[39m\u001b[38;5;132;01m}\u001b[39;00m\u001b[38;5;124m)\u001b[39m\u001b[38;5;124m'\u001b[39m)\n\u001b[1;32m    369\u001b[0m \u001b[38;5;28mprint\u001b[39m(\u001b[38;5;124mf\u001b[39m\u001b[38;5;124m'\u001b[39m\u001b[38;5;124m(pi_o, pi_b, pi_n): (\u001b[39m\u001b[38;5;132;01m{\u001b[39;00mpi_o\u001b[38;5;132;01m:\u001b[39;00m\u001b[38;5;124m.2f\u001b[39m\u001b[38;5;132;01m}\u001b[39;00m\u001b[38;5;124m, \u001b[39m\u001b[38;5;132;01m{\u001b[39;00mpi_b\u001b[38;5;132;01m:\u001b[39;00m\u001b[38;5;124m.2f\u001b[39m\u001b[38;5;132;01m}\u001b[39;00m\u001b[38;5;124m, \u001b[39m\u001b[38;5;132;01m{\u001b[39;00mpi_n\u001b[38;5;132;01m:\u001b[39;00m\u001b[38;5;124m.2f\u001b[39m\u001b[38;5;132;01m}\u001b[39;00m\u001b[38;5;124m)\u001b[39m\u001b[38;5;124m'\u001b[39m)\n",
      "\u001b[0;31mTypeError\u001b[0m: unsupported format string passed to numpy.ndarray.__format__"
     ]
    }
   ],
   "source": [
    "sol = model.find_pi()\n",
    "Bigq = sol[0]\n",
    "BigQ = sol[1]\n",
    "BigP = sol[2]\n",
    "BigPi = sol[3]\n"
   ]
  },
  {
   "cell_type": "code",
   "execution_count": null,
   "metadata": {},
   "outputs": [],
   "source": []
  }
 ],
 "metadata": {
  "kernelspec": {
   "display_name": "base",
   "language": "python",
   "name": "python3"
  },
  "language_info": {
   "codemirror_mode": {
    "name": "ipython",
    "version": 3
   },
   "file_extension": ".py",
   "mimetype": "text/x-python",
   "name": "python",
   "nbconvert_exporter": "python",
   "pygments_lexer": "ipython3",
   "version": "3.11.7"
  }
 },
 "nbformat": 4,
 "nbformat_minor": 2
}
