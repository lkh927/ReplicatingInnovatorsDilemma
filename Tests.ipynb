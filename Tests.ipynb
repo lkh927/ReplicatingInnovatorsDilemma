{
 "cells": [
  {
   "cell_type": "code",
   "execution_count": null,
   "metadata": {},
   "outputs": [
    {
     "name": "stdout",
     "output_type": "stream",
     "text": [
      "The autoreload extension is already loaded. To reload it, use:\n",
      "  %reload_ext autoreload\n"
     ]
    }
   ],
   "source": [
    "%load_ext autoreload\n",
    "%autoreload 2\n",
    "\n",
    "import pandas as pd\n",
    "import numpy as np\n",
    "from Supply import Supply"
   ]
  },
  {
   "cell_type": "code",
   "execution_count": null,
   "metadata": {},
   "outputs": [],
   "source": [
    "model = Supply()\n",
    "folder = \"/Users/emmaknippel/Desktop/POLIT 10 SEM/Dynamic Programming/Replicating the Innovators Dilemma/1 Summary Statistics/Data\"\n",
    "model.setup(folder)"
   ]
  },
  {
   "cell_type": "code",
   "execution_count": null,
   "metadata": {},
   "outputs": [],
   "source": [
    "results = model.MC()\n",
    "\n",
    "dPdQ = results['dPdQ']\n",
    "ePQ = results['ePQ']\n",
    "ABCDEFGH = results['ABCDEFGH']\n",
    "q = results['q']\n",
    "MC = results['MC']"
   ]
  },
  {
   "cell_type": "code",
   "execution_count": null,
   "metadata": {},
   "outputs": [],
   "source": [
    "print(q[:, 1])\n",
    "\n",
    "q_copy = q.copy()\n",
    "q_copy[:, 1] = q[:, 0]\n",
    "q_copy[0, 3] = q[1, 3]\n",
    "q_copy[:, 2] = q_copy[:, 3]\n"
   ]
  },
  {
   "cell_type": "code",
   "execution_count": null,
   "metadata": {},
   "outputs": [],
   "source": [
    "model.foc(q,MC,13)"
   ]
  },
  {
   "cell_type": "code",
   "execution_count": null,
   "metadata": {},
   "outputs": [],
   "source": [
    "par = model.par\n",
    "print(par.State[13,0])\n",
    "print(par.State[13,1])\n",
    "print(par.State[13,2])"
   ]
  },
  {
   "cell_type": "code",
   "execution_count": null,
   "metadata": {},
   "outputs": [],
   "source": [
    "print(MC[13,0])\n",
    "print(MC[13,1])\n",
    "print(MC[13,2])\n",
    "print(MC[13,3])"
   ]
  },
  {
   "cell_type": "code",
   "execution_count": null,
   "metadata": {},
   "outputs": [],
   "source": [
    "alpha1 = -3.28454\n",
    "alpha2 = 0.909773\n",
    "alpha3 = 1.204684\n",
    "Mkt = 56638.8\n",
    "X_o = 6.490788\n",
    "X_n = 6.240812\n",
    "Xe_o = -0.4157396\n",
    "Xe_n = 0.4135973\n",
    "YearDummy = -5.653561\n",
    "MC_o = 1.1213105727517398\n",
    "MC_n = -2.916521500397822\n",
    "No = 1\n",
    "Nb = 4\n",
    "Nn = 5\n",
    "\n",
    "def foc(q):\n",
    "    Qo = No * q[13,0] + Nb * q[13,1]\n",
    "    Qn = Nb * q[13,2] + Nn * q[13,3]\n",
    "    Q0 = Mkt - Qo - Qn\n",
    "\n",
    "    Po = (-1 / alpha1) * (-np.log(Qo / Q0) + alpha2 * 0 + alpha3 * X_o + Xe_o + YearDummy)\n",
    "    Pn = (-1 / alpha1) * (-np.log(Qn / Q0) + alpha2 * 1 + alpha3 * X_n + Xe_n + YearDummy)\n",
    "\n",
    "    dPoQo = (Qo + Q0) / (alpha1 * Qo * Q0)\n",
    "    dPnQo = 1 / (alpha1 * Q0)\n",
    "    dPoQn = 1 / (alpha1 * Q0)\n",
    "    dPnQn = (Qn + Q0) / (alpha1 * Qn * Q0)\n",
    "\n",
    "    foc_o  = Po + dPoQo * q[13,0] - MC_o\n",
    "    foc_bo = Po + dPoQo * q[13,1] + dPnQo * q[13,2] - MC_o\n",
    "    foc_bn = Pn + dPnQn * q[13,2] + dPoQn * q[13,1] - MC_n\n",
    "    foc_n  = Pn + dPnQn * q[13,3] - MC_n  \n",
    "\n",
    "    F = foc_o**2 + foc_bo**2 + foc_bn**2 + foc_n**2\n",
    "\n",
    "    return F\n",
    "\n",
    "foc(q)"
   ]
  }
 ],
 "metadata": {
  "language_info": {
   "name": "python"
  }
 },
 "nbformat": 4,
 "nbformat_minor": 2
}
