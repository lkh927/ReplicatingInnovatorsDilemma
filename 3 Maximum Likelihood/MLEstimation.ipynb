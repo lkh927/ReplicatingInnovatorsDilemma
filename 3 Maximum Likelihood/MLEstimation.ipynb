{
 "cells": [
  {
   "cell_type": "markdown",
   "metadata": {},
   "source": [
    "**Imports and set magic**"
   ]
  },
  {
   "cell_type": "code",
   "execution_count": 6,
   "metadata": {},
   "outputs": [
    {
     "name": "stdout",
     "output_type": "stream",
     "text": [
      "The autoreload extension is already loaded. To reload it, use:\n",
      "  %reload_ext autoreload\n"
     ]
    }
   ],
   "source": [
    "%load_ext autoreload\n",
    "%autoreload 2\n",
    "\n",
    "import pandas as pd\n",
    "import os\n",
    "import numpy as np\n",
    "from scipy.optimize import minimize\n",
    "from scipy.io import loadmat\n",
    "from Likelihood import Likelihood\n",
    "from functools import partial"
   ]
  },
  {
   "cell_type": "markdown",
   "metadata": {},
   "source": [
    "**Folder path definition: Copy and insert local path of \"1 Summary Statistics/Data\"**"
   ]
  },
  {
   "cell_type": "code",
   "execution_count": 7,
   "metadata": {},
   "outputs": [],
   "source": [
    "folder = \"/Users/emmaknippel/Desktop/POLIT 10 SEM/Dynamic Programming/Replicating the Innovators Dilemma/1 Summary Statistics/Data\""
   ]
  },
  {
   "cell_type": "markdown",
   "metadata": {},
   "source": [
    "**Loading the relevant data**"
   ]
  },
  {
   "cell_type": "code",
   "execution_count": 13,
   "metadata": {},
   "outputs": [],
   "source": [
    "def load_csv(filename, folder):\n",
    "    return pd.read_csv(os.path.join(folder, f\"{filename}.csv\"), header=0).values\n",
    "\n",
    "State = load_csv(\"State\", folder)\n",
    "# Ensure that there are 4 potential entrants in each period\n",
    "State[:,3] = np.full(State.shape[0], 4.0)\n",
    "Adopt = load_csv(\"Adopt\", folder)\n",
    "Exit = load_csv(\"Exit\", folder)\n",
    "\n",
    "Pi = loadmat('CheckPi.mat')['Pi']"
   ]
  },
  {
   "cell_type": "markdown",
   "metadata": {},
   "source": [
    "**Calling the Likelihood function for given dynamic parameter values**"
   ]
  },
  {
   "cell_type": "code",
   "execution_count": 15,
   "metadata": {},
   "outputs": [
    {
     "name": "stdout",
     "output_type": "stream",
     "text": [
      "\n",
      "MLE iter #   1: trying (phi, kappa_inc, kappa_ent) = (-0.14736242, 1.24394592, 2.25381668)\n"
     ]
    },
    {
     "ename": "KeyboardInterrupt",
     "evalue": "",
     "output_type": "error",
     "traceback": [
      "\u001b[0;31m---------------------------------------------------------------------------\u001b[0m",
      "\u001b[0;31mKeyboardInterrupt\u001b[0m                         Traceback (most recent call last)",
      "Cell \u001b[0;32mIn[15], line 20\u001b[0m\n\u001b[1;32m     16\u001b[0m Policy \u001b[38;5;241m=\u001b[39m np\u001b[38;5;241m.\u001b[39mzeros((T\u001b[38;5;241m-\u001b[39m\u001b[38;5;241m1\u001b[39m, \u001b[38;5;241m5\u001b[39m, \u001b[38;5;241m12\u001b[39m, \u001b[38;5;241m12\u001b[39m, \u001b[38;5;241m15\u001b[39m))\n\u001b[1;32m     18\u001b[0m Theta \u001b[38;5;241m=\u001b[39m [\u001b[38;5;241m-\u001b[39m\u001b[38;5;241m0.1473624217307790\u001b[39m, \u001b[38;5;241m1.24394591815957\u001b[39m, \u001b[38;5;241m2.25381667717391\u001b[39m]\n\u001b[0;32m---> 20\u001b[0m logL \u001b[38;5;241m=\u001b[39m Likelihood(Theta\u001b[38;5;241m=\u001b[39mTheta, beta\u001b[38;5;241m=\u001b[39mbeta, delta\u001b[38;5;241m=\u001b[39mdelta, Pi\u001b[38;5;241m=\u001b[39mPi, V\u001b[38;5;241m=\u001b[39mV, EV\u001b[38;5;241m=\u001b[39mEV, Policy\u001b[38;5;241m=\u001b[39mPolicy, State\u001b[38;5;241m=\u001b[39mState, Exit\u001b[38;5;241m=\u001b[39mExit, Adopt\u001b[38;5;241m=\u001b[39mAdopt, T\u001b[38;5;241m=\u001b[39mT, iterMLE\u001b[38;5;241m=\u001b[39miterMLE, output_type\u001b[38;5;241m=\u001b[39m\u001b[38;5;241m2\u001b[39m)\n",
      "File \u001b[0;32m~/Desktop/POLIT 10 SEM/Dynamic Programming/Term Paper/ReplicatingInnovatorsDilemma/3 Maximum Likelihood/Likelihood.py:128\u001b[0m, in \u001b[0;36mLikelihood\u001b[0;34m(Theta, beta, delta, Pi, V, EV, Policy, State, Exit, Adopt, T, iterMLE, output_type)\u001b[0m\n\u001b[1;32m    125\u001b[0m     z3 \u001b[38;5;241m=\u001b[39m z8 \u001b[38;5;241m=\u001b[39m \u001b[38;5;241m0\u001b[39m \u001b[38;5;66;03m# If no both firms, then values and probabilities are 0\u001b[39;00m\n\u001b[1;32m    127\u001b[0m \u001b[38;5;28;01mif\u001b[39;00m nn \u001b[38;5;241m>\u001b[39m \u001b[38;5;241m0\u001b[39m:\n\u001b[0;32m--> 128\u001b[0m     z4 \u001b[38;5;241m=\u001b[39m fun4(z6, z7, z8, z9old, z10old, no, nb, nn, Npe, Npe_prime, Vprime) \u001b[38;5;66;03m# Value of staying new, given choice prob of self and others\u001b[39;00m\n\u001b[1;32m    129\u001b[0m     z9 \u001b[38;5;241m=\u001b[39m (fun9(z4, beta, phi) \u001b[38;5;241m+\u001b[39m z9old) \u001b[38;5;241m/\u001b[39m \u001b[38;5;241m2\u001b[39m \u001b[38;5;66;03m# Pr[stay|new], given values and previous expectations\u001b[39;00m\n\u001b[1;32m    130\u001b[0m \u001b[38;5;28;01melse\u001b[39;00m:\n",
      "File \u001b[0;32m~/Desktop/POLIT 10 SEM/Dynamic Programming/Term Paper/ReplicatingInnovatorsDilemma/3 Maximum Likelihood/fun4.py:132\u001b[0m, in \u001b[0;36mfun4\u001b[0;34m(z6, z7, z8, z9, z10, No, Nb, Nn, Npe, Npe_prime, Vprime)\u001b[0m\n\u001b[1;32m    126\u001b[0m     \u001b[38;5;28;01mreturn\u001b[39;00m EV4\n\u001b[1;32m    128\u001b[0m \u001b[38;5;66;03m# Initialize result container\u001b[39;00m\n\u001b[1;32m    129\u001b[0m \u001b[38;5;66;03m# z1 = np.zeros(1)\u001b[39;00m\n\u001b[1;32m    130\u001b[0m \u001b[38;5;66;03m# BA1 = getBA1(z6, z7, z8, z9, z10, No, Nb, Nn, Npe)\u001b[39;00m\n\u001b[1;32m    131\u001b[0m \u001b[38;5;66;03m# BS1 = getBS1(No, Nb, Nn, Npe, Npe_prime, BA1)\u001b[39;00m\n\u001b[0;32m--> 132\u001b[0m z4 \u001b[38;5;241m=\u001b[39m getEV4(Npe_prime, Vprime)\n\u001b[1;32m    134\u001b[0m \u001b[38;5;28;01mreturn\u001b[39;00m z4\n",
      "File \u001b[0;32m~/Desktop/POLIT 10 SEM/Dynamic Programming/Term Paper/ReplicatingInnovatorsDilemma/3 Maximum Likelihood/fun4.py:117\u001b[0m, in \u001b[0;36mfun4.<locals>.getEV4\u001b[0;34m(Npe_prime, Vprime)\u001b[0m\n\u001b[1;32m    115\u001b[0m \u001b[38;5;28;01mdef\u001b[39;00m \u001b[38;5;21mgetEV4\u001b[39m(Npe_prime, Vprime):\n\u001b[1;32m    116\u001b[0m     npe_prime \u001b[38;5;241m=\u001b[39m Npe_prime\n\u001b[0;32m--> 117\u001b[0m     BS4 \u001b[38;5;241m=\u001b[39m getBS4(No, Nb, Nn, Npe, Npe_prime)\n\u001b[1;32m    119\u001b[0m     EV4 \u001b[38;5;241m=\u001b[39m \u001b[38;5;241m0.0\u001b[39m  \u001b[38;5;66;03m# Solution container\u001b[39;00m\n\u001b[1;32m    120\u001b[0m     \u001b[38;5;28;01mfor\u001b[39;00m no_prime \u001b[38;5;129;01min\u001b[39;00m \u001b[38;5;28mrange\u001b[39m(\u001b[38;5;241m0\u001b[39m,\u001b[38;5;241m12\u001b[39m):\n",
      "File \u001b[0;32m~/Desktop/POLIT 10 SEM/Dynamic Programming/Term Paper/ReplicatingInnovatorsDilemma/3 Maximum Likelihood/fun4.py:96\u001b[0m, in \u001b[0;36mfun4.<locals>.getBS4\u001b[0;34m(No, Nb, Nn, Npe, Npe_prime)\u001b[0m\n\u001b[1;32m     93\u001b[0m \u001b[38;5;66;03m# Number of Old-only firms next period = \u001b[39;00m\n\u001b[1;32m     94\u001b[0m \u001b[38;5;66;03m# Number of Old firms - exits of old firms - old firms adopting\u001b[39;00m\n\u001b[1;32m     95\u001b[0m no_prime \u001b[38;5;241m=\u001b[39m No \u001b[38;5;241m-\u001b[39m xo \u001b[38;5;241m-\u001b[39m eb\n\u001b[0;32m---> 96\u001b[0m no_prime \u001b[38;5;241m=\u001b[39m \u001b[38;5;28mmax\u001b[39m(\u001b[38;5;241m0\u001b[39m, no_prime)\n\u001b[1;32m     97\u001b[0m no_prime \u001b[38;5;241m=\u001b[39m \u001b[38;5;28mmin\u001b[39m(no_prime, \u001b[38;5;241m11\u001b[39m)\n\u001b[1;32m     99\u001b[0m \u001b[38;5;66;03m# Number of Both firms next period =\u001b[39;00m\n\u001b[1;32m    100\u001b[0m \u001b[38;5;66;03m# Number of Both - exits of both firms + number of old firms adopting\u001b[39;00m\n",
      "\u001b[0;31mKeyboardInterrupt\u001b[0m: "
     ]
    }
   ],
   "source": [
    "T = Pi.shape[0]\n",
    "beta = 0.80      # Discount factor\n",
    "delta = 1.10   # Decline in SC\n",
    "scaling = 10000   # Scaling factor\n",
    "iterMLE = 1\n",
    "\n",
    "# Rescale profits\n",
    "Pi = Pi / scaling\n",
    "\n",
    "# Terminal Values\n",
    "V = np.zeros((T, 3, 12, 12, 15))\n",
    "V[T-1,:,:,:,:] = Pi[T-1,:,:,:,:] / (1 - beta)\n",
    "\n",
    "# Initialize Solutions\n",
    "EV = np.zeros((T, 5, 12, 12, 15))\n",
    "Policy = np.zeros((T-1, 5, 12, 12, 15))\n",
    "\n",
    "Theta = [-0.1473624217307790, 1.24394591815957, 2.25381667717391]\n",
    "\n",
    "logL = Likelihood(Theta=Theta, beta=beta, delta=delta, Pi=Pi, V=V, EV=EV, Policy=Policy, State=State, Exit=Exit, Adopt=Adopt, T=T, iterMLE=iterMLE, output_type=2)"
   ]
  },
  {
   "cell_type": "markdown",
   "metadata": {},
   "source": [
    "**Running MLE for starting values x0 = [1, 1, 1]**"
   ]
  },
  {
   "cell_type": "code",
   "execution_count": 3,
   "metadata": {},
   "outputs": [
    {
     "name": "stdout",
     "output_type": "stream",
     "text": [
      "  -----------------------------------------\n",
      " | STRATEGIC (RATIONAL-EXPECTATIONS) MODEL |\n",
      "  -----------------------------------------\n",
      " ----- Basic parameters to be \"calibrated\" -----\n",
      "   Profit/value scaling      :     10000\n",
      "   Discount factor (beta)    :     0.8000\n",
      "   Adoption cost drop (delta):     1.1000\n",
      " -----------------------------------------------\n",
      "\n",
      "\n",
      "MLE iter #   1: trying (phi, kappa_inc, kappa_ent) = (1.00000000, 1.00000000, 1.00000000)\n"
     ]
    },
    {
     "name": "stderr",
     "output_type": "stream",
     "text": [
      "/Users/emmaknippel/Desktop/POLIT 10 SEM/Dynamic Programming/Term Paper/ReplicatingInnovatorsDilemma/3 Maximum Likelihood/fun8.py:16: RuntimeWarning: overflow encountered in exp\n",
      "  stay = np.exp(phi + beta * z3)\n",
      "/Users/emmaknippel/Desktop/POLIT 10 SEM/Dynamic Programming/Term Paper/ReplicatingInnovatorsDilemma/3 Maximum Likelihood/fun12.py:15: RuntimeWarning: overflow encountered in exp\n",
      "  stay = np.exp(phi + beta * z3)\n",
      "/Users/emmaknippel/Desktop/POLIT 10 SEM/Dynamic Programming/Term Paper/ReplicatingInnovatorsDilemma/3 Maximum Likelihood/fun6.py:19: RuntimeWarning: overflow encountered in exp\n",
      "  adopt = np.exp(phi + beta * z2 - kappa_inc * (delta ** (year - 1)))\n",
      "/Users/emmaknippel/Desktop/POLIT 10 SEM/Dynamic Programming/Term Paper/ReplicatingInnovatorsDilemma/3 Maximum Likelihood/fun7.py:20: RuntimeWarning: overflow encountered in exp\n",
      "  adopt = np.exp(phi + beta * z2 - kappa_inc * (delta ** (year-1)))\n",
      "/Users/emmaknippel/Desktop/POLIT 10 SEM/Dynamic Programming/Term Paper/ReplicatingInnovatorsDilemma/3 Maximum Likelihood/fun7.py:23: RuntimeWarning: invalid value encountered in double_scalars\n",
      "  z7 = adopt / (np.exp(0) + stay + adopt)\n",
      "/Users/emmaknippel/Desktop/POLIT 10 SEM/Dynamic Programming/Term Paper/ReplicatingInnovatorsDilemma/3 Maximum Likelihood/fun11.py:19: RuntimeWarning: overflow encountered in exp\n",
      "  adopt = np.exp(phi + beta * z2 - kappa_inc * delta**(year-1))\n"
     ]
    },
    {
     "ename": "Warning",
     "evalue": "Error fun1: Vprime must have 6480 elements",
     "output_type": "error",
     "traceback": [
      "\u001b[0;31m---------------------------------------------------------------------------\u001b[0m",
      "\u001b[0;31mWarning\u001b[0m                                   Traceback (most recent call last)",
      "Cell \u001b[0;32mIn[3], line 34\u001b[0m\n\u001b[1;32m     30\u001b[0m options \u001b[38;5;241m=\u001b[39m {\u001b[38;5;124m'\u001b[39m\u001b[38;5;124mdisp\u001b[39m\u001b[38;5;124m'\u001b[39m: \u001b[38;5;28;01mTrue\u001b[39;00m, \u001b[38;5;124m'\u001b[39m\u001b[38;5;124mmaxiter\u001b[39m\u001b[38;5;124m'\u001b[39m: \u001b[38;5;241m1000\u001b[39m, \u001b[38;5;124m'\u001b[39m\u001b[38;5;124mxatol\u001b[39m\u001b[38;5;124m'\u001b[39m: \u001b[38;5;241m1e-4\u001b[39m, \u001b[38;5;124m'\u001b[39m\u001b[38;5;124mfatol\u001b[39m\u001b[38;5;124m'\u001b[39m: \u001b[38;5;241m1e-8\u001b[39m}\n\u001b[1;32m     32\u001b[0m objective_function \u001b[38;5;241m=\u001b[39m partial(Likelihood, beta\u001b[38;5;241m=\u001b[39mbeta, delta\u001b[38;5;241m=\u001b[39mdelta, Pi\u001b[38;5;241m=\u001b[39mPi, V\u001b[38;5;241m=\u001b[39mV, EV\u001b[38;5;241m=\u001b[39mEV, Policy\u001b[38;5;241m=\u001b[39mPolicy, State\u001b[38;5;241m=\u001b[39mState, Exit\u001b[38;5;241m=\u001b[39mExit, Adopt\u001b[38;5;241m=\u001b[39mAdopt, T\u001b[38;5;241m=\u001b[39mT, iterMLE\u001b[38;5;241m=\u001b[39miterMLE, output_type\u001b[38;5;241m=\u001b[39m\u001b[38;5;241m1\u001b[39m)\n\u001b[0;32m---> 34\u001b[0m res \u001b[38;5;241m=\u001b[39m minimize(objective_function, x0, method\u001b[38;5;241m=\u001b[39m\u001b[38;5;124m'\u001b[39m\u001b[38;5;124mNelder-Mead\u001b[39m\u001b[38;5;124m'\u001b[39m, options\u001b[38;5;241m=\u001b[39moptions)\n\u001b[1;32m     35\u001b[0m Theta \u001b[38;5;241m=\u001b[39m res\u001b[38;5;241m.\u001b[39mx\n\u001b[1;32m     37\u001b[0m \u001b[38;5;66;03m# Numerical derivatives for standard errors\u001b[39;00m\n",
      "File \u001b[0;32m~/anaconda3/lib/python3.11/site-packages/scipy/optimize/_minimize.py:726\u001b[0m, in \u001b[0;36mminimize\u001b[0;34m(fun, x0, args, method, jac, hess, hessp, bounds, constraints, tol, callback, options)\u001b[0m\n\u001b[1;32m    723\u001b[0m callback \u001b[38;5;241m=\u001b[39m _wrap_callback(callback, meth)\n\u001b[1;32m    725\u001b[0m \u001b[38;5;28;01mif\u001b[39;00m meth \u001b[38;5;241m==\u001b[39m \u001b[38;5;124m'\u001b[39m\u001b[38;5;124mnelder-mead\u001b[39m\u001b[38;5;124m'\u001b[39m:\n\u001b[0;32m--> 726\u001b[0m     res \u001b[38;5;241m=\u001b[39m _minimize_neldermead(fun, x0, args, callback, bounds\u001b[38;5;241m=\u001b[39mbounds,\n\u001b[1;32m    727\u001b[0m                                \u001b[38;5;241m*\u001b[39m\u001b[38;5;241m*\u001b[39moptions)\n\u001b[1;32m    728\u001b[0m \u001b[38;5;28;01melif\u001b[39;00m meth \u001b[38;5;241m==\u001b[39m \u001b[38;5;124m'\u001b[39m\u001b[38;5;124mpowell\u001b[39m\u001b[38;5;124m'\u001b[39m:\n\u001b[1;32m    729\u001b[0m     res \u001b[38;5;241m=\u001b[39m _minimize_powell(fun, x0, args, callback, bounds, \u001b[38;5;241m*\u001b[39m\u001b[38;5;241m*\u001b[39moptions)\n",
      "File \u001b[0;32m~/anaconda3/lib/python3.11/site-packages/scipy/optimize/_optimize.py:833\u001b[0m, in \u001b[0;36m_minimize_neldermead\u001b[0;34m(func, x0, args, callback, maxiter, maxfev, disp, return_all, initial_simplex, xatol, fatol, adaptive, bounds, **unknown_options)\u001b[0m\n\u001b[1;32m    831\u001b[0m \u001b[38;5;28;01mtry\u001b[39;00m:\n\u001b[1;32m    832\u001b[0m     \u001b[38;5;28;01mfor\u001b[39;00m k \u001b[38;5;129;01min\u001b[39;00m \u001b[38;5;28mrange\u001b[39m(N \u001b[38;5;241m+\u001b[39m \u001b[38;5;241m1\u001b[39m):\n\u001b[0;32m--> 833\u001b[0m         fsim[k] \u001b[38;5;241m=\u001b[39m func(sim[k])\n\u001b[1;32m    834\u001b[0m \u001b[38;5;28;01mexcept\u001b[39;00m _MaxFuncCallError:\n\u001b[1;32m    835\u001b[0m     \u001b[38;5;28;01mpass\u001b[39;00m\n",
      "File \u001b[0;32m~/anaconda3/lib/python3.11/site-packages/scipy/optimize/_optimize.py:542\u001b[0m, in \u001b[0;36m_wrap_scalar_function_maxfun_validation.<locals>.function_wrapper\u001b[0;34m(x, *wrapper_args)\u001b[0m\n\u001b[1;32m    540\u001b[0m ncalls[\u001b[38;5;241m0\u001b[39m] \u001b[38;5;241m+\u001b[39m\u001b[38;5;241m=\u001b[39m \u001b[38;5;241m1\u001b[39m\n\u001b[1;32m    541\u001b[0m \u001b[38;5;66;03m# A copy of x is sent to the user function (gh13740)\u001b[39;00m\n\u001b[0;32m--> 542\u001b[0m fx \u001b[38;5;241m=\u001b[39m function(np\u001b[38;5;241m.\u001b[39mcopy(x), \u001b[38;5;241m*\u001b[39m(wrapper_args \u001b[38;5;241m+\u001b[39m args))\n\u001b[1;32m    543\u001b[0m \u001b[38;5;66;03m# Ideally, we'd like to a have a true scalar returned from f(x). For\u001b[39;00m\n\u001b[1;32m    544\u001b[0m \u001b[38;5;66;03m# backwards-compatibility, also allow np.array([1.3]),\u001b[39;00m\n\u001b[1;32m    545\u001b[0m \u001b[38;5;66;03m# np.array([[1.3]]) etc.\u001b[39;00m\n\u001b[1;32m    546\u001b[0m \u001b[38;5;28;01mif\u001b[39;00m \u001b[38;5;129;01mnot\u001b[39;00m np\u001b[38;5;241m.\u001b[39misscalar(fx):\n",
      "File \u001b[0;32m~/Desktop/POLIT 10 SEM/Dynamic Programming/Term Paper/ReplicatingInnovatorsDilemma/3 Maximum Likelihood/Likelihood.py:130\u001b[0m, in \u001b[0;36mLikelihood\u001b[0;34m(Theta, beta, delta, Pi, V, EV, Policy, State, Exit, Adopt, T, iterMLE, output_type)\u001b[0m\n\u001b[1;32m    127\u001b[0m     z3 \u001b[38;5;241m=\u001b[39m z8 \u001b[38;5;241m=\u001b[39m \u001b[38;5;241m0\u001b[39m \u001b[38;5;66;03m# If no both firms, then values and probabilities are 0\u001b[39;00m\n\u001b[1;32m    129\u001b[0m \u001b[38;5;28;01mif\u001b[39;00m nn \u001b[38;5;241m>\u001b[39m \u001b[38;5;241m0\u001b[39m:\n\u001b[0;32m--> 130\u001b[0m     z4 \u001b[38;5;241m=\u001b[39m fun4(z6, z7, z8, z9old, z10old, no, nb, nn, Npe, Npe_prime, Vprime) \u001b[38;5;66;03m# Value of staying new, given choice prob of self and others\u001b[39;00m\n\u001b[1;32m    131\u001b[0m     z9 \u001b[38;5;241m=\u001b[39m (fun9(z4, beta, phi) \u001b[38;5;241m+\u001b[39m z9old) \u001b[38;5;241m/\u001b[39m \u001b[38;5;241m2\u001b[39m \u001b[38;5;66;03m# Pr[stay|new], given values and previous expectations\u001b[39;00m\n\u001b[1;32m    132\u001b[0m \u001b[38;5;28;01melse\u001b[39;00m:\n",
      "File \u001b[0;32m~/Desktop/POLIT 10 SEM/Dynamic Programming/Term Paper/ReplicatingInnovatorsDilemma/3 Maximum Likelihood/fun4.py:32\u001b[0m, in \u001b[0;36mfun4\u001b[0;34m(z6, z7, z8, z9, z10, No, Nb, Nn, Npe, Npe_prime, Vprime)\u001b[0m\n\u001b[1;32m     30\u001b[0m     \u001b[38;5;28;01mraise\u001b[39;00m \u001b[38;5;167;01mWarning\u001b[39;00m(\u001b[38;5;124mf\u001b[39m\u001b[38;5;124m'\u001b[39m\u001b[38;5;124mError fun4: Vprime must have 6480 rows, it has \u001b[39m\u001b[38;5;132;01m{\u001b[39;00mprhs[\u001b[38;5;241m10\u001b[39m]\u001b[38;5;241m.\u001b[39msize\u001b[38;5;132;01m}\u001b[39;00m\u001b[38;5;124m'\u001b[39m)\n\u001b[1;32m     31\u001b[0m \u001b[38;5;28;01mif\u001b[39;00m np\u001b[38;5;241m.\u001b[39misnan(prhs[\u001b[38;5;241m10\u001b[39m])\u001b[38;5;241m.\u001b[39many():\n\u001b[0;32m---> 32\u001b[0m     \u001b[38;5;28;01mraise\u001b[39;00m \u001b[38;5;167;01mWarning\u001b[39;00m(\u001b[38;5;124mf\u001b[39m\u001b[38;5;124m'\u001b[39m\u001b[38;5;124mError fun4: Vprime must have 6480 elements\u001b[39m\u001b[38;5;124m'\u001b[39m)\n\u001b[1;32m     35\u001b[0m \u001b[38;5;28;01mdef\u001b[39;00m \u001b[38;5;21mgetBA4\u001b[39m(z6, z7, z8, z9, z10, No, Nb, Nn, Npe):\n\u001b[1;32m     36\u001b[0m \u001b[38;5;250m    \u001b[39m\u001b[38;5;124;03m'''\u001b[39;00m\n\u001b[1;32m     37\u001b[0m \u001b[38;5;124;03m    Objective: compute BA4, mapping of actions for New firms\u001b[39;00m\n\u001b[1;32m     38\u001b[0m \n\u001b[0;32m   (...)\u001b[0m\n\u001b[1;32m     43\u001b[0m \u001b[38;5;124;03m        en = # entry potential firms\u001b[39;00m\n\u001b[1;32m     44\u001b[0m \u001b[38;5;124;03m    '''\u001b[39;00m\n",
      "\u001b[0;31mWarning\u001b[0m: Error fun1: Vprime must have 6480 elements"
     ]
    }
   ],
   "source": [
    "T = Pi.shape[0]\n",
    "beta = 0.80      # Discount factor\n",
    "delta = 1.10   # Decline in SC\n",
    "scaling = 10000   # Scaling factor\n",
    "iterMLE = 1\n",
    "\n",
    "print(f\"  -----------------------------------------\")\n",
    "print(f\" | STRATEGIC (RATIONAL-EXPECTATIONS) MODEL |\")\n",
    "print(f\"  -----------------------------------------\")\n",
    "\n",
    "print(f\" ----- Basic parameters to be \\\"calibrated\\\" -----\")\n",
    "print(f\"   Profit/value scaling      :     {scaling:4.0f}\")\n",
    "print(f\"   Discount factor (beta)    :     {beta:1.4f}\")\n",
    "print(f\"   Adoption cost drop (delta):     {delta:1.4f}\")\n",
    "print(\" -----------------------------------------------\\n\")\n",
    "\n",
    "# Rescale profits\n",
    "Pi = Pi / scaling\n",
    "\n",
    "# Terminal Values\n",
    "V = np.zeros((T, 3, 12, 12, 15))\n",
    "V[T-1,:,:,:,:] = Pi[T-1,:,:,:,:] / (1 - beta)\n",
    "\n",
    "# Initialize Solutions\n",
    "EV = np.zeros((T, 5, 12, 12, 15))\n",
    "Policy = np.zeros((T-1, 5, 12, 12, 15))\n",
    "\n",
    "# MLE Estimation\n",
    "x0 = [1, 1, 1]\n",
    "options = {'disp': True, 'maxiter': 1000, 'xatol': 1e-4, 'fatol': 1e-8}\n",
    "\n",
    "objective_function = partial(Likelihood, beta=beta, delta=delta, Pi=Pi, V=V, EV=EV, Policy=Policy, State=State, Exit=Exit, Adopt=Adopt, T=T, iterMLE=iterMLE, output_type=1)\n",
    "\n",
    "res = minimize(objective_function, x0, method='Nelder-Mead', options=options)\n",
    "Theta = res.x\n",
    "\n",
    "# Numerical derivatives for standard errors\n",
    "perturb = 0.001\n",
    "logL = Likelihood(Theta, 2)\n",
    "logLderiv = np.zeros((1, 3))\n",
    "\n",
    "for k in range(3):\n",
    "    Theta_perturbed = np.copy(Theta)\n",
    "    Theta_perturbed[k] += perturb\n",
    "    logL_perturbed = Likelihood(Theta_perturbed, 2)\n",
    "    logLderiv[0, k] = (logL_perturbed - logL) / perturb\n",
    "\n",
    "# Derive the Value estimate\n",
    "Vhat = np.linalg.inv(logLderiv.T @ logLderiv)\n",
    "\n",
    "print(f\"\\n ----- Maximum Likelihood Estimation Results for (phi & kappa_inc) -----\")\n",
    "print(f\" Coeff.: \" + \" \".join([f\"{v:8.8f}\" for v in Theta]))\n",
    "print(f\" S.E.  : \" + \" \".join([f\"{v:8.8f}\" for v in np.sqrt(np.diag(Vhat))]))\n",
    "print(f\" -----------------------------------------------------------------------\\n\")"
   ]
  },
  {
   "cell_type": "code",
   "execution_count": null,
   "metadata": {},
   "outputs": [],
   "source": []
  }
 ],
 "metadata": {
  "kernelspec": {
   "display_name": "base",
   "language": "python",
   "name": "python3"
  },
  "language_info": {
   "codemirror_mode": {
    "name": "ipython",
    "version": 3
   },
   "file_extension": ".py",
   "mimetype": "text/x-python",
   "name": "python",
   "nbconvert_exporter": "python",
   "pygments_lexer": "ipython3",
   "version": "3.11.7"
  }
 },
 "nbformat": 4,
 "nbformat_minor": 2
}
