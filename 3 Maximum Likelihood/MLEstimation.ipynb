{
 "cells": [
  {
   "cell_type": "code",
   "execution_count": 2,
   "metadata": {},
   "outputs": [
    {
     "name": "stdout",
     "output_type": "stream",
     "text": [
      "The autoreload extension is already loaded. To reload it, use:\n",
      "  %reload_ext autoreload\n"
     ]
    }
   ],
   "source": [
    "%load_ext autoreload\n",
    "%autoreload 2\n",
    "\n",
    "import pandas as pd\n",
    "import os\n",
    "import numpy as np\n",
    "from fun1 import fun1\n",
    "from fun2 import fun2\n",
    "from scipy.optimize import minimize\n",
    "from scipy.io import loadmat\n",
    "from Likelihood import Likelihood\n",
    "from functools import partial"
   ]
  },
  {
   "cell_type": "code",
   "execution_count": 4,
   "metadata": {},
   "outputs": [
    {
     "ename": "FileNotFoundError",
     "evalue": "[Errno 2] No such file or directory: 'CheckPi.mat'",
     "output_type": "error",
     "traceback": [
      "\u001b[0;31m---------------------------------------------------------------------------\u001b[0m",
      "\u001b[0;31mFileNotFoundError\u001b[0m                         Traceback (most recent call last)",
      "File \u001b[0;32m~/anaconda3/lib/python3.11/site-packages/scipy/io/matlab/_mio.py:39\u001b[0m, in \u001b[0;36m_open_file\u001b[0;34m(file_like, appendmat, mode)\u001b[0m\n\u001b[1;32m     38\u001b[0m \u001b[38;5;28;01mtry\u001b[39;00m:\n\u001b[0;32m---> 39\u001b[0m     \u001b[38;5;28;01mreturn\u001b[39;00m \u001b[38;5;28mopen\u001b[39m(file_like, mode), \u001b[38;5;28;01mTrue\u001b[39;00m\n\u001b[1;32m     40\u001b[0m \u001b[38;5;28;01mexcept\u001b[39;00m \u001b[38;5;167;01mOSError\u001b[39;00m \u001b[38;5;28;01mas\u001b[39;00m e:\n\u001b[1;32m     41\u001b[0m     \u001b[38;5;66;03m# Probably \"not found\"\u001b[39;00m\n",
      "\u001b[0;31mFileNotFoundError\u001b[0m: [Errno 2] No such file or directory: 'CheckPi.mat'",
      "\nDuring handling of the above exception, another exception occurred:\n",
      "\u001b[0;31mFileNotFoundError\u001b[0m                         Traceback (most recent call last)",
      "Cell \u001b[0;32mIn[4], line 9\u001b[0m\n\u001b[1;32m      6\u001b[0m Adopt \u001b[38;5;241m=\u001b[39m load_csv(\u001b[38;5;124m\"\u001b[39m\u001b[38;5;124mAdopt\u001b[39m\u001b[38;5;124m\"\u001b[39m, folder)\n\u001b[1;32m      7\u001b[0m Exit \u001b[38;5;241m=\u001b[39m load_csv(\u001b[38;5;124m\"\u001b[39m\u001b[38;5;124mExit\u001b[39m\u001b[38;5;124m\"\u001b[39m, folder)\n\u001b[0;32m----> 9\u001b[0m Pi \u001b[38;5;241m=\u001b[39m loadmat(\u001b[38;5;124m'\u001b[39m\u001b[38;5;124mCheckPi.mat\u001b[39m\u001b[38;5;124m'\u001b[39m)[\u001b[38;5;124m'\u001b[39m\u001b[38;5;124mPi\u001b[39m\u001b[38;5;124m'\u001b[39m]\n",
      "File \u001b[0;32m~/anaconda3/lib/python3.11/site-packages/scipy/io/matlab/_mio.py:233\u001b[0m, in \u001b[0;36mloadmat\u001b[0;34m(file_name, mdict, appendmat, spmatrix, **kwargs)\u001b[0m\n\u001b[1;32m     88\u001b[0m \u001b[38;5;250m\u001b[39m\u001b[38;5;124;03m\"\"\"\u001b[39;00m\n\u001b[1;32m     89\u001b[0m \u001b[38;5;124;03mLoad MATLAB file.\u001b[39;00m\n\u001b[1;32m     90\u001b[0m \n\u001b[0;32m   (...)\u001b[0m\n\u001b[1;32m    230\u001b[0m \u001b[38;5;124;03m    3.14159265+3.14159265j])\u001b[39;00m\n\u001b[1;32m    231\u001b[0m \u001b[38;5;124;03m\"\"\"\u001b[39;00m\n\u001b[1;32m    232\u001b[0m variable_names \u001b[38;5;241m=\u001b[39m kwargs\u001b[38;5;241m.\u001b[39mpop(\u001b[38;5;124m'\u001b[39m\u001b[38;5;124mvariable_names\u001b[39m\u001b[38;5;124m'\u001b[39m, \u001b[38;5;28;01mNone\u001b[39;00m)\n\u001b[0;32m--> 233\u001b[0m \u001b[38;5;28;01mwith\u001b[39;00m _open_file_context(file_name, appendmat) \u001b[38;5;28;01mas\u001b[39;00m f:\n\u001b[1;32m    234\u001b[0m     MR, _ \u001b[38;5;241m=\u001b[39m mat_reader_factory(f, \u001b[38;5;241m*\u001b[39m\u001b[38;5;241m*\u001b[39mkwargs)\n\u001b[1;32m    235\u001b[0m     matfile_dict \u001b[38;5;241m=\u001b[39m MR\u001b[38;5;241m.\u001b[39mget_variables(variable_names)\n",
      "File \u001b[0;32m~/anaconda3/lib/python3.11/contextlib.py:137\u001b[0m, in \u001b[0;36m_GeneratorContextManager.__enter__\u001b[0;34m(self)\u001b[0m\n\u001b[1;32m    135\u001b[0m \u001b[38;5;28;01mdel\u001b[39;00m \u001b[38;5;28mself\u001b[39m\u001b[38;5;241m.\u001b[39margs, \u001b[38;5;28mself\u001b[39m\u001b[38;5;241m.\u001b[39mkwds, \u001b[38;5;28mself\u001b[39m\u001b[38;5;241m.\u001b[39mfunc\n\u001b[1;32m    136\u001b[0m \u001b[38;5;28;01mtry\u001b[39;00m:\n\u001b[0;32m--> 137\u001b[0m     \u001b[38;5;28;01mreturn\u001b[39;00m \u001b[38;5;28mnext\u001b[39m(\u001b[38;5;28mself\u001b[39m\u001b[38;5;241m.\u001b[39mgen)\n\u001b[1;32m    138\u001b[0m \u001b[38;5;28;01mexcept\u001b[39;00m \u001b[38;5;167;01mStopIteration\u001b[39;00m:\n\u001b[1;32m    139\u001b[0m     \u001b[38;5;28;01mraise\u001b[39;00m \u001b[38;5;167;01mRuntimeError\u001b[39;00m(\u001b[38;5;124m\"\u001b[39m\u001b[38;5;124mgenerator didn\u001b[39m\u001b[38;5;124m'\u001b[39m\u001b[38;5;124mt yield\u001b[39m\u001b[38;5;124m\"\u001b[39m) \u001b[38;5;28;01mfrom\u001b[39;00m \u001b[38;5;28;01mNone\u001b[39;00m\n",
      "File \u001b[0;32m~/anaconda3/lib/python3.11/site-packages/scipy/io/matlab/_mio.py:17\u001b[0m, in \u001b[0;36m_open_file_context\u001b[0;34m(file_like, appendmat, mode)\u001b[0m\n\u001b[1;32m     15\u001b[0m \u001b[38;5;129m@contextmanager\u001b[39m\n\u001b[1;32m     16\u001b[0m \u001b[38;5;28;01mdef\u001b[39;00m \u001b[38;5;21m_open_file_context\u001b[39m(file_like, appendmat, mode\u001b[38;5;241m=\u001b[39m\u001b[38;5;124m'\u001b[39m\u001b[38;5;124mrb\u001b[39m\u001b[38;5;124m'\u001b[39m):\n\u001b[0;32m---> 17\u001b[0m     f, opened \u001b[38;5;241m=\u001b[39m _open_file(file_like, appendmat, mode)\n\u001b[1;32m     18\u001b[0m     \u001b[38;5;28;01mtry\u001b[39;00m:\n\u001b[1;32m     19\u001b[0m         \u001b[38;5;28;01myield\u001b[39;00m f\n",
      "File \u001b[0;32m~/anaconda3/lib/python3.11/site-packages/scipy/io/matlab/_mio.py:45\u001b[0m, in \u001b[0;36m_open_file\u001b[0;34m(file_like, appendmat, mode)\u001b[0m\n\u001b[1;32m     43\u001b[0m     \u001b[38;5;28;01mif\u001b[39;00m appendmat \u001b[38;5;129;01mand\u001b[39;00m \u001b[38;5;129;01mnot\u001b[39;00m file_like\u001b[38;5;241m.\u001b[39mendswith(\u001b[38;5;124m'\u001b[39m\u001b[38;5;124m.mat\u001b[39m\u001b[38;5;124m'\u001b[39m):\n\u001b[1;32m     44\u001b[0m         file_like \u001b[38;5;241m+\u001b[39m\u001b[38;5;241m=\u001b[39m \u001b[38;5;124m'\u001b[39m\u001b[38;5;124m.mat\u001b[39m\u001b[38;5;124m'\u001b[39m\n\u001b[0;32m---> 45\u001b[0m     \u001b[38;5;28;01mreturn\u001b[39;00m \u001b[38;5;28mopen\u001b[39m(file_like, mode), \u001b[38;5;28;01mTrue\u001b[39;00m\n\u001b[1;32m     46\u001b[0m \u001b[38;5;28;01melse\u001b[39;00m:\n\u001b[1;32m     47\u001b[0m     \u001b[38;5;28;01mraise\u001b[39;00m \u001b[38;5;167;01mOSError\u001b[39;00m(\n\u001b[1;32m     48\u001b[0m         \u001b[38;5;124m'\u001b[39m\u001b[38;5;124mReader needs file name or open file-like object\u001b[39m\u001b[38;5;124m'\u001b[39m\n\u001b[1;32m     49\u001b[0m     ) \u001b[38;5;28;01mfrom\u001b[39;00m \u001b[38;5;21;01me\u001b[39;00m\n",
      "\u001b[0;31mFileNotFoundError\u001b[0m: [Errno 2] No such file or directory: 'CheckPi.mat'"
     ]
    }
   ],
   "source": [
    "def load_csv(filename, folder):\n",
    "    return pd.read_csv(os.path.join(folder, f\"{filename}.csv\"), header=0).values\n",
    "\n",
    "folder = \"/Users/emmaknippel/Desktop/POLIT 10 SEM/Dynamic Programming/Replicating the Innovators Dilemma/1 Summary Statistics/Data\"\n",
    "State = load_csv(\"State\", folder)\n",
    "Adopt = load_csv(\"Adopt\", folder)\n",
    "Exit = load_csv(\"Exit\", folder)\n",
    "\n",
    "Pi = loadmat('CheckPi.mat')['Pi']"
   ]
  },
  {
   "cell_type": "code",
   "execution_count": 22,
   "metadata": {},
   "outputs": [],
   "source": [
    "No, Nb, Nn, Npe = State[5]\n",
    "Npe_prime = State[6, 3]\n",
    "Vprime = np.full(6480,0.1)\n",
    "z6 = z7 = z8 = 0.5\n",
    "z9 = z10 = 0.8"
   ]
  },
  {
   "cell_type": "code",
   "execution_count": 23,
   "metadata": {},
   "outputs": [
    {
     "data": {
      "text/plain": [
       "0.10000000000000003"
      ]
     },
     "execution_count": 23,
     "metadata": {},
     "output_type": "execute_result"
    }
   ],
   "source": [
    "fun1(z6, z7, z8, z9, z10, No, Nb, Nn, Npe, Npe_prime, Vprime)"
   ]
  },
  {
   "cell_type": "code",
   "execution_count": 24,
   "metadata": {},
   "outputs": [
    {
     "data": {
      "text/plain": [
       "0.10000000000000003"
      ]
     },
     "execution_count": 24,
     "metadata": {},
     "output_type": "execute_result"
    }
   ],
   "source": [
    "fun2(z6, z7, z8, z9, z10, No, Nb, Nn, Npe, Npe_prime, Vprime)"
   ]
  },
  {
   "cell_type": "code",
   "execution_count": 20,
   "metadata": {},
   "outputs": [
    {
     "name": "stdout",
     "output_type": "stream",
     "text": [
      "  -----------------------------------------\n",
      " | STRATEGIC (RATIONAL-EXPECTATIONS) MODEL |\n",
      "  -----------------------------------------\n",
      " ----- Basic parameters to be \"calibrated\" -----\n",
      "   Profit/value scaling      :     1000\n",
      "   Discount factor (beta)    :     0.8800\n",
      "   Adoption cost drop (delta):     0.9388\n",
      " -----------------------------------------------\n",
      "\n",
      "\n",
      "MLE iter #   1: trying (phi, kappa_inc, kappa_ent) = (1.00000000, 1.00000000, 1.00000000)\n"
     ]
    },
    {
     "ename": "IndexError",
     "evalue": "index 15 is out of bounds for axis 4 with size 15",
     "output_type": "error",
     "traceback": [
      "\u001b[0;31m---------------------------------------------------------------------------\u001b[0m",
      "\u001b[0;31mIndexError\u001b[0m                                Traceback (most recent call last)",
      "Cell \u001b[0;32mIn[20], line 35\u001b[0m\n\u001b[1;32m     31\u001b[0m options \u001b[38;5;241m=\u001b[39m {\u001b[38;5;124m'\u001b[39m\u001b[38;5;124mdisp\u001b[39m\u001b[38;5;124m'\u001b[39m: \u001b[38;5;28;01mTrue\u001b[39;00m, \u001b[38;5;124m'\u001b[39m\u001b[38;5;124mmaxiter\u001b[39m\u001b[38;5;124m'\u001b[39m: \u001b[38;5;241m1000\u001b[39m, \u001b[38;5;124m'\u001b[39m\u001b[38;5;124mxatol\u001b[39m\u001b[38;5;124m'\u001b[39m: \u001b[38;5;241m1e-4\u001b[39m, \u001b[38;5;124m'\u001b[39m\u001b[38;5;124mfatol\u001b[39m\u001b[38;5;124m'\u001b[39m: \u001b[38;5;241m1e-8\u001b[39m}\n\u001b[1;32m     33\u001b[0m objective_function \u001b[38;5;241m=\u001b[39m partial(Likelihood, beta\u001b[38;5;241m=\u001b[39mbeta, delta\u001b[38;5;241m=\u001b[39mdelta, Pi\u001b[38;5;241m=\u001b[39mPi, V\u001b[38;5;241m=\u001b[39mV, EV\u001b[38;5;241m=\u001b[39mEV, Policy\u001b[38;5;241m=\u001b[39mPolicy, State\u001b[38;5;241m=\u001b[39mState, Exit\u001b[38;5;241m=\u001b[39mExit, Adopt\u001b[38;5;241m=\u001b[39mAdopt, T\u001b[38;5;241m=\u001b[39mT, iterMLE\u001b[38;5;241m=\u001b[39miterMLE, output_type\u001b[38;5;241m=\u001b[39m\u001b[38;5;241m1\u001b[39m)\n\u001b[0;32m---> 35\u001b[0m res \u001b[38;5;241m=\u001b[39m minimize(objective_function, x0, method\u001b[38;5;241m=\u001b[39m\u001b[38;5;124m'\u001b[39m\u001b[38;5;124mNelder-Mead\u001b[39m\u001b[38;5;124m'\u001b[39m, options\u001b[38;5;241m=\u001b[39moptions)\n\u001b[1;32m     36\u001b[0m Theta \u001b[38;5;241m=\u001b[39m res\u001b[38;5;241m.\u001b[39mx\n\u001b[1;32m     38\u001b[0m \u001b[38;5;66;03m# Numerical derivatives for standard errors\u001b[39;00m\n",
      "File \u001b[0;32m~/anaconda3/lib/python3.11/site-packages/scipy/optimize/_minimize.py:726\u001b[0m, in \u001b[0;36mminimize\u001b[0;34m(fun, x0, args, method, jac, hess, hessp, bounds, constraints, tol, callback, options)\u001b[0m\n\u001b[1;32m    723\u001b[0m callback \u001b[38;5;241m=\u001b[39m _wrap_callback(callback, meth)\n\u001b[1;32m    725\u001b[0m \u001b[38;5;28;01mif\u001b[39;00m meth \u001b[38;5;241m==\u001b[39m \u001b[38;5;124m'\u001b[39m\u001b[38;5;124mnelder-mead\u001b[39m\u001b[38;5;124m'\u001b[39m:\n\u001b[0;32m--> 726\u001b[0m     res \u001b[38;5;241m=\u001b[39m _minimize_neldermead(fun, x0, args, callback, bounds\u001b[38;5;241m=\u001b[39mbounds,\n\u001b[1;32m    727\u001b[0m                                \u001b[38;5;241m*\u001b[39m\u001b[38;5;241m*\u001b[39moptions)\n\u001b[1;32m    728\u001b[0m \u001b[38;5;28;01melif\u001b[39;00m meth \u001b[38;5;241m==\u001b[39m \u001b[38;5;124m'\u001b[39m\u001b[38;5;124mpowell\u001b[39m\u001b[38;5;124m'\u001b[39m:\n\u001b[1;32m    729\u001b[0m     res \u001b[38;5;241m=\u001b[39m _minimize_powell(fun, x0, args, callback, bounds, \u001b[38;5;241m*\u001b[39m\u001b[38;5;241m*\u001b[39moptions)\n",
      "File \u001b[0;32m~/anaconda3/lib/python3.11/site-packages/scipy/optimize/_optimize.py:833\u001b[0m, in \u001b[0;36m_minimize_neldermead\u001b[0;34m(func, x0, args, callback, maxiter, maxfev, disp, return_all, initial_simplex, xatol, fatol, adaptive, bounds, **unknown_options)\u001b[0m\n\u001b[1;32m    831\u001b[0m \u001b[38;5;28;01mtry\u001b[39;00m:\n\u001b[1;32m    832\u001b[0m     \u001b[38;5;28;01mfor\u001b[39;00m k \u001b[38;5;129;01min\u001b[39;00m \u001b[38;5;28mrange\u001b[39m(N \u001b[38;5;241m+\u001b[39m \u001b[38;5;241m1\u001b[39m):\n\u001b[0;32m--> 833\u001b[0m         fsim[k] \u001b[38;5;241m=\u001b[39m func(sim[k])\n\u001b[1;32m    834\u001b[0m \u001b[38;5;28;01mexcept\u001b[39;00m _MaxFuncCallError:\n\u001b[1;32m    835\u001b[0m     \u001b[38;5;28;01mpass\u001b[39;00m\n",
      "File \u001b[0;32m~/anaconda3/lib/python3.11/site-packages/scipy/optimize/_optimize.py:542\u001b[0m, in \u001b[0;36m_wrap_scalar_function_maxfun_validation.<locals>.function_wrapper\u001b[0;34m(x, *wrapper_args)\u001b[0m\n\u001b[1;32m    540\u001b[0m ncalls[\u001b[38;5;241m0\u001b[39m] \u001b[38;5;241m+\u001b[39m\u001b[38;5;241m=\u001b[39m \u001b[38;5;241m1\u001b[39m\n\u001b[1;32m    541\u001b[0m \u001b[38;5;66;03m# A copy of x is sent to the user function (gh13740)\u001b[39;00m\n\u001b[0;32m--> 542\u001b[0m fx \u001b[38;5;241m=\u001b[39m function(np\u001b[38;5;241m.\u001b[39mcopy(x), \u001b[38;5;241m*\u001b[39m(wrapper_args \u001b[38;5;241m+\u001b[39m args))\n\u001b[1;32m    543\u001b[0m \u001b[38;5;66;03m# Ideally, we'd like to a have a true scalar returned from f(x). For\u001b[39;00m\n\u001b[1;32m    544\u001b[0m \u001b[38;5;66;03m# backwards-compatibility, also allow np.array([1.3]),\u001b[39;00m\n\u001b[1;32m    545\u001b[0m \u001b[38;5;66;03m# np.array([[1.3]]) etc.\u001b[39;00m\n\u001b[1;32m    546\u001b[0m \u001b[38;5;28;01mif\u001b[39;00m \u001b[38;5;129;01mnot\u001b[39;00m np\u001b[38;5;241m.\u001b[39misscalar(fx):\n",
      "File \u001b[0;32m~/Desktop/POLIT 10 SEM/Dynamic Programming/Term Paper/ReplicatingInnovatorsDilemma/3 Maximum Likelihood/Likelihood.py:37\u001b[0m, in \u001b[0;36mLikelihood\u001b[0;34m(Theta, beta, delta, Pi, V, EV, Policy, State, Exit, Adopt, T, iterMLE, output_type)\u001b[0m\n\u001b[1;32m     34\u001b[0m         \u001b[38;5;28;01mfor\u001b[39;00m nb_prime \u001b[38;5;129;01min\u001b[39;00m \u001b[38;5;28mrange\u001b[39m(\u001b[38;5;241m12\u001b[39m): \u001b[38;5;66;03m# Loop over nb_prime (0 to 11)\u001b[39;00m\n\u001b[1;32m     35\u001b[0m             \u001b[38;5;28;01mfor\u001b[39;00m nn_prime \u001b[38;5;129;01min\u001b[39;00m \u001b[38;5;28mrange\u001b[39m(\u001b[38;5;241m15\u001b[39m): \u001b[38;5;66;03m# Loop over nn_prime (0 to 14)\u001b[39;00m\n\u001b[1;32m     36\u001b[0m                 Vprime[\u001b[38;5;241m1\u001b[39m \u001b[38;5;241m+\u001b[39m \u001b[38;5;28mtype\u001b[39m \u001b[38;5;241m+\u001b[39m \u001b[38;5;241m3\u001b[39m\u001b[38;5;241m*\u001b[39mno_prime \u001b[38;5;241m+\u001b[39m \u001b[38;5;241m3\u001b[39m\u001b[38;5;241m*\u001b[39m\u001b[38;5;241m12\u001b[39m\u001b[38;5;241m*\u001b[39mnb_prime \u001b[38;5;241m+\u001b[39m \u001b[38;5;241m3\u001b[39m\u001b[38;5;241m*\u001b[39m\u001b[38;5;241m12\u001b[39m\u001b[38;5;241m*\u001b[39m\u001b[38;5;241m12\u001b[39m\u001b[38;5;241m*\u001b[39mnn_prime] \\\n\u001b[0;32m---> 37\u001b[0m                  \u001b[38;5;241m=\u001b[39m V[t\u001b[38;5;241m+\u001b[39m\u001b[38;5;241m1\u001b[39m, \u001b[38;5;28mtype\u001b[39m\u001b[38;5;241m+\u001b[39m\u001b[38;5;241m1\u001b[39m, no_prime\u001b[38;5;241m+\u001b[39m\u001b[38;5;241m1\u001b[39m, nb_prime\u001b[38;5;241m+\u001b[39m\u001b[38;5;241m1\u001b[39m, nn_prime\u001b[38;5;241m+\u001b[39m\u001b[38;5;241m1\u001b[39m]\n\u001b[1;32m     38\u001b[0m                 \u001b[38;5;66;03m# This line fills the Vprime array with the values from the next period's value function\u001b[39;00m\n\u001b[1;32m     39\u001b[0m                 \u001b[38;5;66;03m# The first time iteration, this will be filled with all 0's - the next time, it will be\u001b[39;00m\n\u001b[1;32m     40\u001b[0m                 \u001b[38;5;66;03m# filled with the values that were calculated in the previous iteration\u001b[39;00m\n\u001b[1;32m     41\u001b[0m \n\u001b[1;32m     42\u001b[0m \u001b[38;5;66;03m# Loading observed states in the given year\u001b[39;00m\n\u001b[1;32m     43\u001b[0m No \u001b[38;5;241m=\u001b[39m State[t, \u001b[38;5;241m0\u001b[39m]\n",
      "\u001b[0;31mIndexError\u001b[0m: index 15 is out of bounds for axis 4 with size 15"
     ]
    }
   ],
   "source": [
    "\n",
    "T = Pi.shape[0]\n",
    "beta = 0.88      # Discount factor\n",
    "delta = 0.9388   # Decline in SC\n",
    "scaling = 1000   # Scaling factor\n",
    "iterMLE = 1\n",
    "\n",
    "print(f\"  -----------------------------------------\")\n",
    "print(f\" | STRATEGIC (RATIONAL-EXPECTATIONS) MODEL |\")\n",
    "print(f\"  -----------------------------------------\")\n",
    "\n",
    "print(f\" ----- Basic parameters to be \\\"calibrated\\\" -----\")\n",
    "print(f\"   Profit/value scaling      :     {scaling:4.0f}\")\n",
    "print(f\"   Discount factor (beta)    :     {beta:1.4f}\")\n",
    "print(f\"   Adoption cost drop (delta):     {delta:1.4f}\")\n",
    "print(\" -----------------------------------------------\\n\")\n",
    "\n",
    "# Rescale profits\n",
    "Pi = Pi / scaling\n",
    "\n",
    "# Terminal Values\n",
    "V = np.zeros((T, 3, 12, 12, 15))\n",
    "V[T-1,:,:,:,:] = Pi[T-1,:,:,:,:] / (1 - beta)\n",
    "\n",
    "# Initialize Solutions\n",
    "EV = np.zeros((T, 5, 12, 12, 15))\n",
    "Policy = np.zeros((T-1, 5, 12, 12, 15))\n",
    "\n",
    "# MLE Estimation\n",
    "x0 = [1, 1, 1]\n",
    "options = {'disp': True, 'maxiter': 1000, 'xatol': 1e-4, 'fatol': 1e-8}\n",
    "\n",
    "objective_function = partial(Likelihood, beta=beta, delta=delta, Pi=Pi, V=V, EV=EV, Policy=Policy, State=State, Exit=Exit, Adopt=Adopt, T=T, iterMLE=iterMLE, output_type=1)\n",
    "\n",
    "res = minimize(objective_function, x0, method='Nelder-Mead', options=options)\n",
    "Theta = res.x\n",
    "\n",
    "# Numerical derivatives for standard errors\n",
    "perturb = 0.001\n",
    "logL = Likelihood(Theta, 2)\n",
    "logLderiv = np.zeros((1, 3))\n",
    "\n",
    "for k in range(3):\n",
    "    Theta_perturbed = np.copy(Theta)\n",
    "    Theta_perturbed[k] += perturb\n",
    "    logL_perturbed = Likelihood(Theta_perturbed, 2)\n",
    "    logLderiv[0, k] = (logL_perturbed - logL) / perturb\n",
    "\n",
    "# Derive the Value estimate\n",
    "Vhat = np.linalg.inv(logLderiv.T @ logLderiv)\n",
    "\n",
    "print(f\"\\n ----- Maximum Likelihood Estimation Results for (phi & kappa_inc) -----\")\n",
    "print(f\" Coeff.: \" + \" \".join([f\"{v:8.8f}\" for v in Theta]))\n",
    "print(f\" S.E.  : \" + \" \".join([f\"{v:8.8f}\" for v in np.sqrt(np.diag(Vhat))]))\n",
    "print(f\" -----------------------------------------------------------------------\\n\")\n",
    "\n"
   ]
  },
  {
   "cell_type": "code",
   "execution_count": null,
   "metadata": {},
   "outputs": [],
   "source": []
  }
 ],
 "metadata": {
  "kernelspec": {
   "display_name": "base",
   "language": "python",
   "name": "python3"
  },
  "language_info": {
   "codemirror_mode": {
    "name": "ipython",
    "version": 3
   },
   "file_extension": ".py",
   "mimetype": "text/x-python",
   "name": "python",
   "nbconvert_exporter": "python",
   "pygments_lexer": "ipython3",
   "version": "3.11.7"
  }
 },
 "nbformat": 4,
 "nbformat_minor": 2
}
