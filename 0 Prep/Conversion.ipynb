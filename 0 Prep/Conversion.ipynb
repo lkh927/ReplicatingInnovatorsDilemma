{
 "cells": [
  {
   "cell_type": "markdown",
   "metadata": {},
   "source": [
    "Imports"
   ]
  },
  {
   "cell_type": "code",
   "execution_count": 1,
   "metadata": {},
   "outputs": [],
   "source": [
    "import scipy as sp \n",
    "import pandas as pd"
   ]
  },
  {
   "cell_type": "markdown",
   "metadata": {},
   "source": [
    "Load data"
   ]
  },
  {
   "cell_type": "code",
   "execution_count": null,
   "metadata": {},
   "outputs": [],
   "source": [
    "data = sp.io.loadmat('Data.mat')"
   ]
  },
  {
   "cell_type": "markdown",
   "metadata": {},
   "source": [
    "Conversion"
   ]
  },
  {
   "cell_type": "code",
   "execution_count": 2,
   "metadata": {},
   "outputs": [
    {
     "name": "stdout",
     "output_type": "stream",
     "text": [
      "Yd: <class 'numpy.ndarray'>\n",
      "alpha0: <class 'numpy.ndarray'>\n",
      "alpha1: <class 'numpy.ndarray'>\n",
      "alpha2: <class 'numpy.ndarray'>\n",
      "alpha3: <class 'numpy.ndarray'>\n",
      "Xe: <class 'numpy.ndarray'>\n",
      "M: <class 'numpy.ndarray'>\n",
      "P: <class 'numpy.ndarray'>\n",
      "X: <class 'numpy.ndarray'>\n",
      "State: <class 'numpy.ndarray'>\n",
      "State2: <class 'numpy.ndarray'>\n",
      "Exit: <class 'numpy.ndarray'>\n",
      "Adopt: <class 'numpy.ndarray'>\n",
      "Q: <class 'numpy.ndarray'>\n"
     ]
    }
   ],
   "source": [
    "for key in data:\n",
    "    if not key.startswith('__'):\n",
    "        print(f\"{key}: {type(data[key])}\")\n",
    "        try:\n",
    "            pd.DataFrame(data[key]).to_csv(f\"{key}.csv\", index=False)\n",
    "        except Exception as e:\n",
    "            print(f\"Could not convert {key}: {e}\")"
   ]
  }
 ],
 "metadata": {
  "kernelspec": {
   "display_name": "base",
   "language": "python",
   "name": "python3"
  },
  "language_info": {
   "codemirror_mode": {
    "name": "ipython",
    "version": 3
   },
   "file_extension": ".py",
   "mimetype": "text/x-python",
   "name": "python",
   "nbconvert_exporter": "python",
   "pygments_lexer": "ipython3",
   "version": "3.11.7"
  }
 },
 "nbformat": 4,
 "nbformat_minor": 2
}
